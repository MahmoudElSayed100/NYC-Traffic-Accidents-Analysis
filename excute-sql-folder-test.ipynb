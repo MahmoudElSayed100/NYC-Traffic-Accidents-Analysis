{
 "cells": [
  {
   "cell_type": "code",
   "execution_count": 1,
   "metadata": {},
   "outputs": [],
   "source": [
    "from database_handler import *\n",
    "import os\n",
    "\n",
    "db_session = create_connection()"
   ]
  },
  {
   "cell_type": "code",
   "execution_count": null,
   "metadata": {},
   "outputs": [],
   "source": [
    "def execute_sql_folder(db_session, sql_folder_path):\n",
    "    try:\n",
    "        sql_files = [sqlfile for sqlfile in os.listdir(sql_folder_path) if sqlfile.endswith('.sql')]\n",
    "        sorted_sql_files =  sorted(sql_files)\n",
    "        for sql_file in sorted_sql_files:\n",
    "            if str(sql_file.split('-')[0].split('_')[1]) == ETLStep.PREHOOK.value:\n",
    "               with open(os.path.join(sql_folder_path,sql_file), 'r') as file:\n",
    "                  sql_query = file.read()\n",
    "                  return_val = execute_query(db_session= db_session, query= sql_query)\n",
    "                  if not return_val == ErrorHandling.NO_ERROR:\n",
    "                     raise Exception(f\"  SQL File Error on SQL FILE = \" +  str(sql_file))\n",
    "    except Exception as e:\n",
    "        suffix = str(e)\n",
    "        error_prefix = ErrorHandling.EXECUTE_SQL_FOLDER.value\n",
    "        show_error_message(error_prefix, suffix)"
   ]
  }
 ],
 "metadata": {
  "kernelspec": {
   "display_name": "Python 3",
   "language": "python",
   "name": "python3"
  },
  "language_info": {
   "codemirror_mode": {
    "name": "ipython",
    "version": 3
   },
   "file_extension": ".py",
   "mimetype": "text/x-python",
   "name": "python",
   "nbconvert_exporter": "python",
   "pygments_lexer": "ipython3",
   "version": "3.11.3"
  }
 },
 "nbformat": 4,
 "nbformat_minor": 2
}
