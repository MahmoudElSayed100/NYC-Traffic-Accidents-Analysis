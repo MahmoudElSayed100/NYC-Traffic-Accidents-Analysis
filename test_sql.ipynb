{
 "cells": [
  {
   "cell_type": "code",
   "execution_count": 3,
   "metadata": {},
   "outputs": [
    {
     "ename": "TypeError",
     "evalue": "'NoneType' object is not iterable",
     "output_type": "error",
     "traceback": [
      "\u001b[1;31m---------------------------------------------------------------------------\u001b[0m",
      "\u001b[1;31mTypeError\u001b[0m                                 Traceback (most recent call last)",
      "\u001b[1;32mc:\\Users\\Admin\\Desktop\\SEF-Final-Project-NYC-Accidents-Analysis\\test_sql.ipynb Cell 1\u001b[0m line \u001b[0;36m1\n\u001b[0;32m      <a href='vscode-notebook-cell:/c%3A/Users/Admin/Desktop/SEF-Final-Project-NYC-Accidents-Analysis/test_sql.ipynb#W0sZmlsZQ%3D%3D?line=8'>9</a>\u001b[0m                 \u001b[39mprint\u001b[39m(\u001b[39m'\u001b[39m\u001b[39myes\u001b[39m\u001b[39m'\u001b[39m)\n\u001b[0;32m     <a href='vscode-notebook-cell:/c%3A/Users/Admin/Desktop/SEF-Final-Project-NYC-Accidents-Analysis/test_sql.ipynb#W0sZmlsZQ%3D%3D?line=9'>10</a>\u001b[0m db_session\u001b[39m=\u001b[39m create_connection()\n\u001b[1;32m---> <a href='vscode-notebook-cell:/c%3A/Users/Admin/Desktop/SEF-Final-Project-NYC-Accidents-Analysis/test_sql.ipynb#W0sZmlsZQ%3D%3D?line=10'>11</a>\u001b[0m execute_prehook_sql(db_session,sql_command_directory_path)\n",
      "\u001b[1;32mc:\\Users\\Admin\\Desktop\\SEF-Final-Project-NYC-Accidents-Analysis\\test_sql.ipynb Cell 1\u001b[0m line \u001b[0;36m6\n\u001b[0;32m      <a href='vscode-notebook-cell:/c%3A/Users/Admin/Desktop/SEF-Final-Project-NYC-Accidents-Analysis/test_sql.ipynb#W0sZmlsZQ%3D%3D?line=3'>4</a>\u001b[0m \u001b[39mdef\u001b[39;00m \u001b[39mexecute_prehook_sql\u001b[39m(db_session, sql_command_directory_path):\n\u001b[0;32m      <a href='vscode-notebook-cell:/c%3A/Users/Admin/Desktop/SEF-Final-Project-NYC-Accidents-Analysis/test_sql.ipynb#W0sZmlsZQ%3D%3D?line=4'>5</a>\u001b[0m     sql_files \u001b[39m=\u001b[39m \u001b[39mNone\u001b[39;00m \u001b[39m#retreive_sql_files(sql_command_directory_path)\u001b[39;00m\n\u001b[1;32m----> <a href='vscode-notebook-cell:/c%3A/Users/Admin/Desktop/SEF-Final-Project-NYC-Accidents-Analysis/test_sql.ipynb#W0sZmlsZQ%3D%3D?line=5'>6</a>\u001b[0m     \u001b[39mfor\u001b[39;00m sql_file \u001b[39min\u001b[39;00m sql_files:\n\u001b[0;32m      <a href='vscode-notebook-cell:/c%3A/Users/Admin/Desktop/SEF-Final-Project-NYC-Accidents-Analysis/test_sql.ipynb#W0sZmlsZQ%3D%3D?line=6'>7</a>\u001b[0m         \u001b[39mif\u001b[39;00m \u001b[39mstr\u001b[39m(sql_file\u001b[39m.\u001b[39msplit(\u001b[39m'\u001b[39m\u001b[39m-\u001b[39m\u001b[39m'\u001b[39m)[\u001b[39m0\u001b[39m]\u001b[39m.\u001b[39msplit(\u001b[39m'\u001b[39m\u001b[39m_\u001b[39m\u001b[39m'\u001b[39m)[\u001b[39m1\u001b[39m]) \u001b[39m==\u001b[39m \u001b[39m\"\u001b[39m\u001b[39mprehook\u001b[39m\u001b[39m\"\u001b[39m:\n\u001b[0;32m      <a href='vscode-notebook-cell:/c%3A/Users/Admin/Desktop/SEF-Final-Project-NYC-Accidents-Analysis/test_sql.ipynb#W0sZmlsZQ%3D%3D?line=7'>8</a>\u001b[0m             \u001b[39mwith\u001b[39;00m \u001b[39mopen\u001b[39m(os\u001b[39m.\u001b[39mpath\u001b[39m.\u001b[39mjoin(sql_command_directory_path,sql_file), \u001b[39m'\u001b[39m\u001b[39mr\u001b[39m\u001b[39m'\u001b[39m) \u001b[39mas\u001b[39;00m file:\n",
      "\u001b[1;31mTypeError\u001b[0m: 'NoneType' object is not iterable"
     ]
    }
   ],
   "source": [
    "from database_handler import create_connection\n",
    "import os\n",
    "sql_command_directory_path='SQL_commands'\n",
    "def execute_prehook_sql(db_session, sql_command_directory_path, target_schema):\n",
    "    sql_files = None #retreive_sql_files(sql_command_directory_path)\n",
    "    for sql_file in sql_files:\n",
    "        if str(sql_file.split('-')[0].split('_')[1]) == \"prehook\":\n",
    "            with open(os.path.join(sql_command_directory_path,sql_file), 'r') as file:\n",
    "                sql_query = file.read()\n",
    "                sql_query = sql_query.replace('target_schema', target_schema.value)\n",
    "                execute_query(db_session, sql_query)\n",
    "    "
   ]
  }
 ],
 "metadata": {
  "kernelspec": {
   "display_name": "Python 3",
   "language": "python",
   "name": "python3"
  },
  "language_info": {
   "codemirror_mode": {
    "name": "ipython",
    "version": 3
   },
   "file_extension": ".py",
   "mimetype": "text/x-python",
   "name": "python",
   "nbconvert_exporter": "python",
   "pygments_lexer": "ipython3",
   "version": "3.11.3"
  }
 },
 "nbformat": 4,
 "nbformat_minor": 2
}
