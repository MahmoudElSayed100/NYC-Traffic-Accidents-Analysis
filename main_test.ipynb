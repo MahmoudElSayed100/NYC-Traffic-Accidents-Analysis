{
 "cells": [
  {
   "cell_type": "code",
   "execution_count": null,
   "metadata": {},
   "outputs": [],
   "source": [
    "from main import etl_run\n",
    "\n",
    "etl_run()"
   ]
  },
  {
   "cell_type": "code",
   "execution_count": null,
   "metadata": {},
   "outputs": [],
   "source": [
    "from database_handler import *\n",
    "\n",
    "def return_etl_last_updated_date(db_session):\n",
    "   schema_destination_table = DESTINATION_SCHEMA.DESTINATION_NAME.value\n",
    "   return_date = None\n",
    "   does_etl_time_exists = False\n",
    "   query = f\"\"\"\n",
    "      SELECT elt_last_run_date from {schema_destination_table}.etl_checkpoint ORDER BY etl_last_run_date DESC LIMIT 1\n",
    "   \"\"\"\n",
    "   try:\n",
    "      etl_df = return_data_as_df(file_executor = query, input_type= InputTypes.SQL, db_session= db_session)\n",
    "      if len(etl_df) == 0:\n",
    "         return_date = \"2012-07-01\"\n",
    "      else:\n",
    "         return_date = etl_df['elt_last_run_date'].iloc[0]\n",
    "         does_etl_time_exists = True\n",
    "   except Exception as e:\n",
    "      suffix = str(e)\n",
    "      error_prefix = ErrorHandling.RETURN_LAST_ETL_DATE_ERROR.value\n",
    "      show_error_message(error_prefix, suffix)\n",
    "   finally:\n",
    "      return return_date, does_etl_time_exists\n",
    "\n",
    "db_session = create_connection()\n",
    "etl_date , does_etl_time_exists = return_etl_last_updated_date(db_session)"
   ]
  },
  {
   "cell_type": "code",
   "execution_count": null,
   "metadata": {},
   "outputs": [],
   "source": [
    "from database_handler import *\n",
    "from lookups import *\n",
    "schema_destination_table = DESTINATION_SCHEMA.DESTINATION_NAME.value\n",
    "query = f\"\"\"\n",
    "      SELECT etl_last_run_date from {schema_destination_table}.elt_checkpoint ORDER BY etl_last_run_date DESC LIMIT 1\n",
    "   \"\"\"\n",
    "etl_df = return_data_as_df(file_executor = query, input_type= InputTypes.SQL, db_session= db_session)\n",
    "if len(etl_df) == 0:\n",
    "   return_date = \"2012-07-01\"\n",
    "   does_etl_time_exists = False\n",
    "else:\n",
    "   return_date = etl_df['elt_last_run_date'].iloc[0]\n",
    "   does_etl_time_exists = True\n",
    "\n",
    "print(does_etl_time_exists, return_date)"
   ]
  },
  {
   "cell_type": "code",
   "execution_count": 26,
   "metadata": {},
   "outputs": [],
   "source": [
    "close_connection(db_session=db_session)"
   ]
  },
  {
   "cell_type": "code",
   "execution_count": 27,
   "metadata": {},
   "outputs": [],
   "source": [
    "from hook import *\n",
    "\n",
    "db_session = create_connection()\n",
    "create_etl_checkpoint(db_session)\n",
    "# return_etl_last_updated_date(db_session)"
   ]
  }
 ],
 "metadata": {
  "kernelspec": {
   "display_name": "Python 3",
   "language": "python",
   "name": "python3"
  },
  "language_info": {
   "codemirror_mode": {
    "name": "ipython",
    "version": 3
   },
   "file_extension": ".py",
   "mimetype": "text/x-python",
   "name": "python",
   "nbconvert_exporter": "python",
   "pygments_lexer": "ipython3",
   "version": "3.11.3"
  }
 },
 "nbformat": 4,
 "nbformat_minor": 2
}
