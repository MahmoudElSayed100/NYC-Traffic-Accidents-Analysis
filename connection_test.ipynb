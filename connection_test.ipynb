{
 "cells": [
  {
   "cell_type": "code",
   "execution_count": null,
   "metadata": {},
   "outputs": [],
   "source": [
    "from prehook import execute_prehook\n",
    "\n",
    "execute_prehook()"
   ]
  },
  {
   "cell_type": "code",
   "execution_count": 1,
   "metadata": {},
   "outputs": [
    {
     "name": "stderr",
     "output_type": "stream",
     "text": [
      "c:\\Users\\Admin\\Desktop\\SEF-Final-Project-NYC-Accidents-Analysis\\database_handler.py:41: DtypeWarning: Columns (3) have mixed types. Specify dtype option on import or set low_memory=False.\n",
      "  return_dataframe = pd.read_csv(file_executor)\n"
     ]
    }
   ],
   "source": [
    "from database_handler import return_data_as_df\n",
    "from lookups import InputTypes\n",
    "import pandas as pd\n",
    "path = r\"csv_tables/test.csv\"\n",
    "df = return_data_as_df(path,InputTypes.CSV)\n",
    "pd.set_option('display.max_columns', None)"
   ]
  },
  {
   "cell_type": "code",
   "execution_count": 2,
   "metadata": {},
   "outputs": [
    {
     "name": "stdout",
     "output_type": "stream",
     "text": [
      "<class 'pandas.core.series.Series'>\n",
      "RangeIndex: 2033266 entries, 0 to 2033265\n",
      "Series name: BOROUGH\n",
      "Non-Null Count    Dtype \n",
      "--------------    ----- \n",
      "1400723 non-null  object\n",
      "dtypes: object(1)\n",
      "memory usage: 15.5+ MB\n"
     ]
    }
   ],
   "source": [
    "df['BOROUGH'].info()"
   ]
  },
  {
   "cell_type": "code",
   "execution_count": null,
   "metadata": {},
   "outputs": [],
   "source": [
    "df[df['NUMBER_OF_MOTORIST_INJURED'].isna()]"
   ]
  },
  {
   "cell_type": "code",
   "execution_count": null,
   "metadata": {},
   "outputs": [],
   "source": [
    "df['NUMBER_OF_PERSONS_INJURED'].info()"
   ]
  },
  {
   "cell_type": "code",
   "execution_count": 3,
   "metadata": {},
   "outputs": [],
   "source": [
    "from cleaning_dfs_handler import clean_nyc_traffic_data\n",
    "df = clean_nyc_traffic_data(df)"
   ]
  },
  {
   "cell_type": "code",
   "execution_count": 4,
   "metadata": {},
   "outputs": [
    {
     "name": "stdout",
     "output_type": "stream",
     "text": [
      "<class 'pandas.core.frame.DataFrame'>\n",
      "Int64Index: 1913776 entries, 0 to 2033265\n",
      "Data columns (total 32 columns):\n",
      " #   Column                         Dtype         \n",
      "---  ------                         -----         \n",
      " 0   CRASH_DATE                     datetime64[ns]\n",
      " 1   CRASH_TIME                     object        \n",
      " 2   BOROUGH                        object        \n",
      " 3   ZIP_CODE                       object        \n",
      " 4   LATITUDE                       float64       \n",
      " 5   LONGITUDE                      float64       \n",
      " 6   LOCATION                       object        \n",
      " 7   ON_STREET_NAME                 object        \n",
      " 8   CROSS_STREET_NAME              object        \n",
      " 9   OFF_STREET_NAME                object        \n",
      " 10  NUMBER_OF_PERSONS_INJURED      float64       \n",
      " 11  NUMBER_OF_PERSONS_KILLED       float64       \n",
      " 12  NUMBER_OF_PEDESTRIANS_INJURED  int64         \n",
      " 13  NUMBER_OF_PEDESTRIANS_KILLED   int64         \n",
      " 14  NUMBER_OF_CYCLIST_INJURED      int64         \n",
      " 15  NUMBER_OF_CYCLIST_KILLED       int64         \n",
      " 16  NUMBER_OF_MOTORIST_INJURED     int64         \n",
      " 17  NUMBER_OF_MOTORIST_KILLED      int64         \n",
      " 18  CONTRIBUTING_FACTOR_VEHICLE_1  object        \n",
      " 19  CONTRIBUTING_FACTOR_VEHICLE_2  object        \n",
      " 20  CONTRIBUTING_FACTOR_VEHICLE_3  object        \n",
      " 21  CONTRIBUTING_FACTOR_VEHICLE_4  object        \n",
      " 22  CONTRIBUTING_FACTOR_VEHICLE_5  object        \n",
      " 23  COLLISION_ID                   int64         \n",
      " 24  VEHICLE_TYPE_CODE_1            object        \n",
      " 25  VEHICLE_TYPE_CODE_2            object        \n",
      " 26  VEHICLE_TYPE_CODE_3            object        \n",
      " 27  VEHICLE_TYPE_CODE_4            object        \n",
      " 28  VEHICLE_TYPE_CODE_5            object        \n",
      " 29  STREET                         object        \n",
      " 30  TOTAL_VICTIMS                  float64       \n",
      " 31  PART_OF_DAY                    category      \n",
      "dtypes: category(1), datetime64[ns](1), float64(5), int64(7), object(18)\n",
      "memory usage: 469.1+ MB\n"
     ]
    }
   ],
   "source": [
    "df.info()"
   ]
  },
  {
   "cell_type": "code",
   "execution_count": null,
   "metadata": {},
   "outputs": [],
   "source": [
    "df['VEHICLE_TYPE_CODE_1'].fillna('Unspecified', inplace=True)"
   ]
  },
  {
   "cell_type": "code",
   "execution_count": 5,
   "metadata": {},
   "outputs": [
    {
     "data": {
      "text/html": [
       "<div>\n",
       "<style scoped>\n",
       "    .dataframe tbody tr th:only-of-type {\n",
       "        vertical-align: middle;\n",
       "    }\n",
       "\n",
       "    .dataframe tbody tr th {\n",
       "        vertical-align: top;\n",
       "    }\n",
       "\n",
       "    .dataframe thead th {\n",
       "        text-align: right;\n",
       "    }\n",
       "</style>\n",
       "<table border=\"1\" class=\"dataframe\">\n",
       "  <thead>\n",
       "    <tr style=\"text-align: right;\">\n",
       "      <th></th>\n",
       "      <th>CRASH_DATE</th>\n",
       "      <th>CRASH_TIME</th>\n",
       "      <th>BOROUGH</th>\n",
       "      <th>ZIP_CODE</th>\n",
       "      <th>LATITUDE</th>\n",
       "      <th>LONGITUDE</th>\n",
       "      <th>LOCATION</th>\n",
       "      <th>ON_STREET_NAME</th>\n",
       "      <th>CROSS_STREET_NAME</th>\n",
       "      <th>OFF_STREET_NAME</th>\n",
       "      <th>NUMBER_OF_PERSONS_INJURED</th>\n",
       "      <th>NUMBER_OF_PERSONS_KILLED</th>\n",
       "      <th>NUMBER_OF_PEDESTRIANS_INJURED</th>\n",
       "      <th>NUMBER_OF_PEDESTRIANS_KILLED</th>\n",
       "      <th>NUMBER_OF_CYCLIST_INJURED</th>\n",
       "      <th>NUMBER_OF_CYCLIST_KILLED</th>\n",
       "      <th>NUMBER_OF_MOTORIST_INJURED</th>\n",
       "      <th>NUMBER_OF_MOTORIST_KILLED</th>\n",
       "      <th>CONTRIBUTING_FACTOR_VEHICLE_1</th>\n",
       "      <th>CONTRIBUTING_FACTOR_VEHICLE_2</th>\n",
       "      <th>CONTRIBUTING_FACTOR_VEHICLE_3</th>\n",
       "      <th>CONTRIBUTING_FACTOR_VEHICLE_4</th>\n",
       "      <th>CONTRIBUTING_FACTOR_VEHICLE_5</th>\n",
       "      <th>COLLISION_ID</th>\n",
       "      <th>VEHICLE_TYPE_CODE_1</th>\n",
       "      <th>VEHICLE_TYPE_CODE_2</th>\n",
       "      <th>VEHICLE_TYPE_CODE_3</th>\n",
       "      <th>VEHICLE_TYPE_CODE_4</th>\n",
       "      <th>VEHICLE_TYPE_CODE_5</th>\n",
       "      <th>STREET</th>\n",
       "      <th>TOTAL_VICTIMS</th>\n",
       "      <th>PART_OF_DAY</th>\n",
       "    </tr>\n",
       "  </thead>\n",
       "  <tbody>\n",
       "  </tbody>\n",
       "</table>\n",
       "</div>"
      ],
      "text/plain": [
       "Empty DataFrame\n",
       "Columns: [CRASH_DATE, CRASH_TIME, BOROUGH, ZIP_CODE, LATITUDE, LONGITUDE, LOCATION, ON_STREET_NAME, CROSS_STREET_NAME, OFF_STREET_NAME, NUMBER_OF_PERSONS_INJURED, NUMBER_OF_PERSONS_KILLED, NUMBER_OF_PEDESTRIANS_INJURED, NUMBER_OF_PEDESTRIANS_KILLED, NUMBER_OF_CYCLIST_INJURED, NUMBER_OF_CYCLIST_KILLED, NUMBER_OF_MOTORIST_INJURED, NUMBER_OF_MOTORIST_KILLED, CONTRIBUTING_FACTOR_VEHICLE_1, CONTRIBUTING_FACTOR_VEHICLE_2, CONTRIBUTING_FACTOR_VEHICLE_3, CONTRIBUTING_FACTOR_VEHICLE_4, CONTRIBUTING_FACTOR_VEHICLE_5, COLLISION_ID, VEHICLE_TYPE_CODE_1, VEHICLE_TYPE_CODE_2, VEHICLE_TYPE_CODE_3, VEHICLE_TYPE_CODE_4, VEHICLE_TYPE_CODE_5, STREET, TOTAL_VICTIMS, PART_OF_DAY]\n",
       "Index: []"
      ]
     },
     "execution_count": 5,
     "metadata": {},
     "output_type": "execute_result"
    }
   ],
   "source": [
    "df[df['TOTAL_VICTIMS'].isna()]"
   ]
  },
  {
   "cell_type": "code",
   "execution_count": null,
   "metadata": {},
   "outputs": [],
   "source": [
    "\n",
    "df.head(20)"
   ]
  },
  {
   "cell_type": "code",
   "execution_count": null,
   "metadata": {},
   "outputs": [],
   "source": [
    "filtered_df = df[df['BOROUGH'].isna()]\n",
    "filtered_df"
   ]
  },
  {
   "cell_type": "code",
   "execution_count": null,
   "metadata": {},
   "outputs": [],
   "source": [
    "df.dropna(subset=['BOROUGH'], inplace=True)"
   ]
  },
  {
   "cell_type": "code",
   "execution_count": null,
   "metadata": {},
   "outputs": [],
   "source": [
    "df['BOROUGH'].unique()"
   ]
  },
  {
   "cell_type": "code",
   "execution_count": null,
   "metadata": {},
   "outputs": [],
   "source": [
    "df[df['BOROUGH']=='OTHER']"
   ]
  },
  {
   "cell_type": "markdown",
   "metadata": {},
   "source": [
    "review with zahi"
   ]
  },
  {
   "cell_type": "code",
   "execution_count": null,
   "metadata": {},
   "outputs": [],
   "source": [
    "import pandas as pd\n",
    "from cleaning_dfs_handler import zipcode_to_borough_mapping, trim_spaces_in_df\n",
    "\n",
    "# df['ZIP CODE'] = df['ZIP CODE'].astype(str)\n",
    "df= trim_spaces_in_df(df)\n",
    "\n",
    "def replace_null_borough_with_zipcode(df, zipcode_dic):\n",
    "   for index, row in df.iterrows():\n",
    "      if pd.isna(row['BOROUGH']) and not pd.isna(row['ZIP CODE']):\n",
    "            zipcode = row['ZIP CODE']\n",
    "            if zipcode in zipcode_dic:\n",
    "               df.at[index, 'BOROUGH'] = zipcode_dic[zipcode]\n",
    "   return df\n",
    "\n",
    "\n",
    "df = replace_null_borough_with_zipcode(df,zipcode_to_borough_mapping)"
   ]
  },
  {
   "cell_type": "code",
   "execution_count": null,
   "metadata": {},
   "outputs": [],
   "source": [
    "df.head()"
   ]
  },
  {
   "cell_type": "code",
   "execution_count": null,
   "metadata": {},
   "outputs": [],
   "source": [
    "df['BOROUGH'].info()"
   ]
  },
  {
   "cell_type": "code",
   "execution_count": null,
   "metadata": {},
   "outputs": [],
   "source": [
    "df.sort_values(by=[\"CRASH_DATE\", \"CRASH_TIME\"], ascending=[False, False], inplace=True)"
   ]
  },
  {
   "cell_type": "code",
   "execution_count": null,
   "metadata": {},
   "outputs": [],
   "source": [
    "df.head(10)"
   ]
  },
  {
   "cell_type": "code",
   "execution_count": null,
   "metadata": {},
   "outputs": [],
   "source": [
    "import pandas as pd\n",
    "pd.set_option('display.max_columns', None)\n",
    "df.sort_values(by=[\"CRASH_DATE\", \"CRASH_TIME\"], ascending=[False, False], inplace=True)\n",
    "df.head()"
   ]
  },
  {
   "cell_type": "code",
   "execution_count": null,
   "metadata": {},
   "outputs": [],
   "source": [
    "df['CRASH_TIME'] = pd.to_datetime(df['CRASH_TIME'])\n"
   ]
  },
  {
   "cell_type": "code",
   "execution_count": null,
   "metadata": {},
   "outputs": [],
   "source": [
    "df['VEHICLE_TYPE_CODE_1'].unique()"
   ]
  },
  {
   "cell_type": "code",
   "execution_count": null,
   "metadata": {},
   "outputs": [],
   "source": [
    "from database_handler import create_connection\n",
    "db_session = create_connection()"
   ]
  },
  {
   "cell_type": "code",
   "execution_count": null,
   "metadata": {},
   "outputs": [],
   "source": [
    "df.columns"
   ]
  },
  {
   "cell_type": "code",
   "execution_count": null,
   "metadata": {},
   "outputs": [],
   "source": [
    "df.head()"
   ]
  },
  {
   "cell_type": "markdown",
   "metadata": {},
   "source": [
    "new column (street) to display the street name"
   ]
  },
  {
   "cell_type": "code",
   "execution_count": null,
   "metadata": {},
   "outputs": [],
   "source": [
    "import pandas as pd\n",
    "\n",
    "\n",
    "df['STREET'] = df['ON_STREET_NAME'].fillna(df['OFF_STREET_NAME']).fillna('Unspecified')\n"
   ]
  },
  {
   "cell_type": "markdown",
   "metadata": {},
   "source": [
    "total victims"
   ]
  },
  {
   "cell_type": "code",
   "execution_count": null,
   "metadata": {},
   "outputs": [],
   "source": [
    "df['TOTAL_VICTIMS'] = df['NUMBER_OF_PERSONS_KILLED'] + df['NUMBER_OF_PERSONS_INJURED']"
   ]
  },
  {
   "cell_type": "markdown",
   "metadata": {},
   "source": [
    "binning the time interval"
   ]
  },
  {
   "cell_type": "code",
   "execution_count": null,
   "metadata": {},
   "outputs": [],
   "source": [
    "\n",
    "intervals = [(0, 4), (4, 8), (8, 12), (12, 16), (16, 20), (20, 24)]\n",
    "labels = ['Late Night', 'Early Morning', 'Morning', 'Noon', 'Evening', 'Night']\n",
    "\n",
    "# Categorize the times\n",
    "df['PART_OF_DAY'] = pd.cut(df['CRASH_TIME'].apply(lambda x: x.hour), bins=[x[0] for x in intervals] + [intervals[-1][1]], labels=labels)\n"
   ]
  },
  {
   "cell_type": "code",
   "execution_count": null,
   "metadata": {},
   "outputs": [],
   "source": [
    "df.columns"
   ]
  },
  {
   "cell_type": "code",
   "execution_count": null,
   "metadata": {},
   "outputs": [],
   "source": [
    "df[df['CONTRIBUTING_FACTOR_VEHICLE_1'].isna()]"
   ]
  },
  {
   "cell_type": "code",
   "execution_count": null,
   "metadata": {},
   "outputs": [],
   "source": [
    "import pandas as pd\n",
    "\n",
    "# Assuming df is your DataFrame\n",
    "df['CONTRIBUTING_FACTOR_VEHICLE_1'] = df['CONTRIBUTING_FACTOR_VEHICLE_1'].fillna('Unspecified')\n"
   ]
  },
  {
   "cell_type": "code",
   "execution_count": null,
   "metadata": {},
   "outputs": [],
   "source": [
    "df['CONTRIBUTING_FACTOR_VEHICLE_1'].unique()"
   ]
  },
  {
   "cell_type": "code",
   "execution_count": null,
   "metadata": {},
   "outputs": [],
   "source": [
    "filtered_df.shape"
   ]
  },
  {
   "cell_type": "code",
   "execution_count": null,
   "metadata": {},
   "outputs": [],
   "source": [
    "df.head(50)"
   ]
  },
  {
   "cell_type": "markdown",
   "metadata": {},
   "source": [
    "BOROUGH"
   ]
  },
  {
   "cell_type": "code",
   "execution_count": null,
   "metadata": {},
   "outputs": [],
   "source": [
    "import pandas as pd\n",
    "\n",
    "pd.set_option('display.max_columns', None)\n",
    "filtered_df = df[df['CRASH_DATE'] == '10/10/2023']\n",
    "filtered_df"
   ]
  },
  {
   "cell_type": "code",
   "execution_count": null,
   "metadata": {},
   "outputs": [],
   "source": [
    "\n"
   ]
  }
 ],
 "metadata": {
  "kernelspec": {
   "display_name": "Python 3",
   "language": "python",
   "name": "python3"
  },
  "language_info": {
   "codemirror_mode": {
    "name": "ipython",
    "version": 3
   },
   "file_extension": ".py",
   "mimetype": "text/x-python",
   "name": "python",
   "nbconvert_exporter": "python",
   "pygments_lexer": "ipython3",
   "version": "3.11.3"
  }
 },
 "nbformat": 4,
 "nbformat_minor": 2
}
