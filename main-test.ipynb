{
 "cells": [
  {
   "cell_type": "code",
   "execution_count": 1,
   "metadata": {},
   "outputs": [
    {
     "name": "stdout",
     "output_type": "stream",
     "text": [
      "executing sql commands\n",
      "Time taken for execute_sql_folder: 0.1678941249847412 seconds\n",
      "Extracting data from source 1\n",
      "Time taken for download_csv: 143.09466123580933 seconds\n",
      "Extracting data from source 2\n",
      "Time taken for get_and_read_source2_data_api: 61.28383660316467 seconds\n"
     ]
    },
    {
     "name": "stderr",
     "output_type": "stream",
     "text": [
      "c:\\Users\\Admin\\Desktop\\NYC-TRAFFIC-ACCIDENTS-PROJECT\\database_handler.py:42: DtypeWarning: Columns (3) have mixed types. Specify dtype option on import or set low_memory=False.\n",
      "  return_dataframe = pd.read_csv(file_executor)\n"
     ]
    },
    {
     "name": "stdout",
     "output_type": "stream",
     "text": [
      "Time taken for return_data_as_df: 8.466731548309326 seconds\n",
      "Working on: cleaning df source 1\n",
      "Time taken for clean_nyc_traffic_data: 119.01435470581055 seconds\n",
      "Working on: cleaning dfs source 2\n",
      "Time taken for clean_persons_table: 13.215121507644653 seconds\n",
      "Creating create statement query for source 1\n",
      "Time taken for return_create_statement_from_df_stg (source 1): 0.0 seconds\n",
      "Executing create statement query for source 1\n",
      "Time taken for execute_query (source 1): 0.03349733352661133 seconds\n",
      "Created staging table for source 1\n",
      "Creating create statement query for source 2\n",
      "Time taken for return_create_statement_from_df_stg (source 2): 0.0 seconds\n",
      "Executing create statement query for source 2\n",
      "Time taken for execute_query (source 2): 0.018866777420043945 seconds\n",
      "Created staging table for source 2\n",
      "executing hook\n",
      "Time taken for create_connection: 0.044197797775268555 seconds\n",
      "creating etl checkpoint\n",
      "Time taken for create_etl_checkpoint: 0.0035376548767089844 seconds\n",
      "returning last etl updated date\n",
      "Time taken for return_etl_last_updated_date: 0.0 seconds\n",
      "2012-06-01 00:00:00\n"
     ]
    },
    {
     "name": "stderr",
     "output_type": "stream",
     "text": [
      "c:\\Users\\Admin\\Desktop\\NYC-TRAFFIC-ACCIDENTS-PROJECT\\database_handler.py:46: UserWarning: pandas only supports SQLAlchemy connectable (engine/connection) or database string URI or sqlite3 DBAPI2 connection. Other DBAPI2 objects are not tested. Please consider using SQLAlchemy.\n",
      "  return_dataframe = pd.read_sql_query(con=db_session, sql=file_executor)\n"
     ]
    },
    {
     "name": "stdout",
     "output_type": "stream",
     "text": [
      "Time taken for filter_df_by_etl_date: 1.0465748310089111 seconds\n",
      "Time taken for filter_df_by_etl_date_API: 1.2366297245025635 seconds\n",
      "Creating insert into staging tables from source1\n",
      "Time taken for return_insert_into_sql_statement_from_df_stg (source1): 134.73412537574768 seconds\n",
      "inserting data into stg\n",
      "Success\n",
      "Creating insert into staging tables from source2\n",
      "Time taken for return_insert_into_sql_statement_from_df_stg (source2): 81.64519143104553 seconds\n",
      "inserting data into stg\n",
      "Success\n",
      "executing sql folder\n",
      "Time taken for execute_sql_folder: 0.0007250308990478516 seconds\n",
      "inserting etl checkpoint\n",
      "Time taken for insert_or_update_etl_checkpoint: 0.0 seconds\n",
      "done\n",
      "executing post hook\n",
      "stg table 1 truncated!\n",
      "stg table 2 truncated!\n",
      "Success\n"
     ]
    }
   ],
   "source": [
    "from main import etl_run\n",
    "\n",
    "etl_run()"
   ]
  },
  {
   "cell_type": "code",
   "execution_count": null,
   "metadata": {},
   "outputs": [],
   "source": [
    "import pandas as pd\n",
    "\n",
    "date1 = pd.to_datetime(\"2023-10-17\")\n",
    "date2 = pd.to_datetime(\"2023-10-17 00:00:00\")\n",
    "\n",
    "if date1 == date2:\n",
    "    print(\"The dates are equal.\")\n",
    "else:\n",
    "    print(\"The dates are not equal.\")\n"
   ]
  },
  {
   "cell_type": "code",
   "execution_count": null,
   "metadata": {},
   "outputs": [],
   "source": []
  }
 ],
 "metadata": {
  "kernelspec": {
   "display_name": "Python 3",
   "language": "python",
   "name": "python3"
  },
  "language_info": {
   "codemirror_mode": {
    "name": "ipython",
    "version": 3
   },
   "file_extension": ".py",
   "mimetype": "text/x-python",
   "name": "python",
   "nbconvert_exporter": "python",
   "pygments_lexer": "ipython3",
   "version": "3.11.3"
  }
 },
 "nbformat": 4,
 "nbformat_minor": 2
}
