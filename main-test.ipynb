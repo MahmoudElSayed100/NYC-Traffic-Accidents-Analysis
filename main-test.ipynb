{
 "cells": [
  {
   "cell_type": "code",
   "execution_count": 1,
   "metadata": {},
   "outputs": [
    {
     "name": "stdout",
     "output_type": "stream",
     "text": [
      "executing sql commands\n",
      "Extracting data from source 1\n",
      "Extracting data from source 2\n"
     ]
    },
    {
     "name": "stderr",
     "output_type": "stream",
     "text": [
      "c:\\Users\\Admin\\Desktop\\NYC-TRAFFIC-ACCIDENTS-PROJECT\\database_handler.py:42: DtypeWarning: Columns (3) have mixed types. Specify dtype option on import or set low_memory=False.\n",
      "  return_dataframe = pd.read_csv(file_executor)\n"
     ]
    },
    {
     "name": "stdout",
     "output_type": "stream",
     "text": [
      "Working on: cleaning df source 1\n",
      "Working on: cleaning dfs source 2\n",
      "Creating create statement query for source 1\n",
      "Executing create statement query for source 1\n",
      "Created staging table for source 1\n",
      "Creating create statement query for source 2\n",
      "Executing create statement query for source 2\n",
      "Created staging table for source 2\n",
      "executing hook\n",
      "creating etl checkpoint\n",
      "returning last etl updated date\n",
      "2012-06-01 00:00:00\n"
     ]
    },
    {
     "name": "stderr",
     "output_type": "stream",
     "text": [
      "c:\\Users\\Admin\\Desktop\\NYC-TRAFFIC-ACCIDENTS-PROJECT\\database_handler.py:46: UserWarning: pandas only supports SQLAlchemy connectable (engine/connection) or database string URI or sqlite3 DBAPI2 connection. Other DBAPI2 objects are not tested. Please consider using SQLAlchemy.\n",
      "  return_dataframe = pd.read_sql_query(con=db_session, sql=file_executor)\n"
     ]
    },
    {
     "name": "stdout",
     "output_type": "stream",
     "text": [
      "Creating insert into staging tables from source1\n",
      "inserting data into stg\n",
      "Success\n",
      "Creating insert into staging tables from source2\n",
      "inserting data into stg\n",
      "Success\n",
      "executing sql folder\n",
      "inserting etl checkpoint\n",
      "Done\n",
      "executing post hook\n",
      "stg table 1 truncated!\n",
      "stg table 2 truncated!\n",
      "Success\n"
     ]
    }
   ],
   "source": [
    "from main import etl_run\n",
    "\n",
    "etl_run()"
   ]
  }
 ],
 "metadata": {
  "kernelspec": {
   "display_name": "Python 3",
   "language": "python",
   "name": "python3"
  },
  "language_info": {
   "codemirror_mode": {
    "name": "ipython",
    "version": 3
   },
   "file_extension": ".py",
   "mimetype": "text/x-python",
   "name": "python",
   "nbconvert_exporter": "python",
   "pygments_lexer": "ipython3",
   "version": "3.11.3"
  }
 },
 "nbformat": 4,
 "nbformat_minor": 2
}
